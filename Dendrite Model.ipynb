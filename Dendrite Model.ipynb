{
 "cells": [
  {
   "cell_type": "markdown",
   "metadata": {},
   "source": [
    "# Dendrite Model\n",
    "\n",
    "1. Create a passive cable model using th eneural parameters described in the McIntyre, Richardson, and Grill Paper provided in the reading. Your model shall consist of three dendrites connected to a cell body. The cell body is assumed to be a sphere with diameter 50 $\\mu$m, the dendrites are cylinders with the following diameters and lengths\n",
    "\n",
    "  D1: \n",
    "    \n",
    "    * L=1mm\n",
    "    * d = 10 $\\mu$m\n",
    "    \n",
    "  D2: \n",
    "    \n",
    "    * L = 1mm\n",
    "    * d = 20 $\\mu$m\n",
    "    \n",
    "  D3:\n",
    "    \n",
    "    * L=300 $\\mu$m\n",
    "    * d = 20 $\\mu$m\n",
    "    \n",
    "  Show the change in potential at the cell body as a function of an injected square pulse of cathodal (depolarizing) current under the conditions listed below. After all of these modeling exercises, describe the influence of the diameter and length of the dendrites on processing of synaptic information.\n",
    "    \n",
    "   * Same, single pulse input in the middle of each of the respective dendrites.\n",
    "   * Same, single pulse input equidistant from the cell body for each dendrite.\n",
    "   * Multiple input pulses of current at equidistance from the cell body for eachdendrite for several frequencies.\n",
    "    \n",
    "2. Add an active axon to your model. Double the sodium channel density in the initial axon hillock segment of the axon. Repeat the scenarios above and describe the effects on the axon. Find input pulses that drive the axon to fire an action potential. The axon should be 20 $\\mu$m in diameter, is myelinated, and should consist of 20 nodes after the initial segment.\n",
    "        \n",
    "3. Rather than injecting a current internally at the node of the dendrite, add a synaptic current across the membrane. Use a single tau model and set tau to different values ranging from 50 $\\mu$s and th emaximum synaptic conductance initially equal tot he sodium conductance and then varied higher and lower. Explore spatial and temporal summation using your model. Vary the frequency of input pulses that are individually too small to cause axon excitement.\n",
    "\n",
    "4. Change the diameters of the cell body from 30 $\\mu$m to 100 $\\mu$m with active axons changing in proportion from 8 $\\mu$m to 20 $\\mu$m. Describe the impact of the size change on the dendritic input and on the axon excitation. For a fixed size, examine the effect of increasing intermodal spacing from 100*D to 500*D on action potential propagation."
   ]
  },
  {
   "cell_type": "markdown",
   "metadata": {},
   "source": [
    "## Math\n",
    "\n",
    "### Nernst potential\n",
    "\n",
    "The nernst potential is governed by the equation:\n",
    "\n",
    "$$V_{ion} = \\frac{RT}{zF} \\ln \\left( \\frac{[ion]_{out}}{[ion]_{in}} \\right)$$\n",
    "\n",
    "Where\n",
    "\n",
    "$$V_{ion} = V_{in} - V_{out}$$\n",
    "\n",
    "$R$ is the gas constant 8.314 J/K/Mol\n",
    "\n",
    "$T$ is temperature in kelvin\n",
    "\n",
    "$z$ is the valence of the ion\n",
    "\n",
    "$F$ is Faradays constant 96,485 C/mol\n",
    "\n",
    "Given $T$ is 37 C, then \n",
    "\n",
    "$$V_{ion} = \\frac{26.7}{z} \\ln \\left( \\frac{[ion]_{out}}{[ion]_{in}} \\right)$$\n",
    "$$V_{ion} = \\frac{61.5}{z} \\log \\left( \\frac{[ion]_{out}}{[ion]_{in}} \\right)$$\n",
    "\n",
    "### GHK equation\n",
    "\n",
    "When multiple ions are involved, the following relation occurs:\n",
    "\n",
    "$$V_{GHK} = \\frac{RT}{F} \\times \\ln \\left[ \\frac{\\sum_{+ions} P_{ion} [ion^+]_{out} + \\sum_{-ions} P_{ion} [ion^-]_{in}}{\\sum_{+ions}P_{ion}[ion^+]_{in} + \\sum_{-ions} P_{ion}[ion^-]_{out}}\\right]$$\n",
    "\n",
    "where $P_{ion}$ is the membrane permiability of that particular ion.\n",
    "\n",
    "### Passive Cable equation\n",
    "\n",
    "The passive cable equation is derived by assuming the dendrite is a cylinder. It assumes that all the ion channels on the membrane can be represented by a single resistor. $\\Delta x$ from the integration actually gets factored out and becomes a partial derivative term for the external voltage.\n",
    "\n",
    "\n",
    "$$V_m + \\tau_m \\frac{\\partial V_m}{\\partial t} - \\lambda^2 \\frac{\\partial^2 V_m}{\\partial x^2} - i_{inj} = \\lambda^2 \\frac{\\partial^2 V_e}{\\partial x^2}$$\n",
    "\n",
    "$$\\tau_m = r_m c_m$$\n",
    "$$\\lambda = \\frac{r_m}{r_a}$$\n",
    "\n",
    "So what does the cable equation represent?\n",
    "\n",
    "It represents the relationship between the membrane voltage, the external voltage, and any injected voltage.\n",
    "\n",
    "If the equation is normally derived, the $i_{inj}$ term is actually $\\frac{i_{inj} r_m}{\\Delta x}$, but you can ignore the $\\Delta x$ term if you assume the current is injected from a point, and $r_m$ can be ignored if you assume that it is injected directly inside.\n",
    "\n",
    "So for the model, what are the inputs, and what are the outputs?\n",
    "\n",
    "The input is $i_{inj}$ and the outputs are actually $i_a+$ and $i_a-$ using these and superposition, we'll be able to chain them to other nodes."
   ]
  },
  {
   "cell_type": "markdown",
   "metadata": {},
   "source": [
    "## Conversion to code:\n",
    "\n",
    "The compartment model discretizes the continuous cable model by discrete steps for a compartment $j$, and assuming that the external voltage is zero, we get the following equation:\n",
    "\n",
    "$$\\frac{V_m}{r_m \\Delta x} + C_m \\frac{V_{m,t} - V_{m,t-1}}{\\Delta t} -  \\frac{V_{j+1} - 2V_j + V_{j-1}}{r_a \\Delta x} - i_{inj} = 0$$\n",
    "\n",
    "$$V_0 e^\\frac{-x}{\\lambda}$$"
   ]
  },
  {
   "cell_type": "code",
   "execution_count": 1,
   "metadata": {
    "collapsed": false
   },
   "outputs": [],
   "source": [
    "using DifferentialEquations"
   ]
  },
  {
   "cell_type": "code",
   "execution_count": 3,
   "metadata": {
    "collapsed": false
   },
   "outputs": [
    {
     "data": {
      "text/html": [
       "3"
      ],
      "text/plain": [
       "3"
      ]
     },
     "execution_count": 3,
     "metadata": {},
     "output_type": "execute_result"
    }
   ],
   "source": [
    "1+2"
   ]
  },
  {
   "cell_type": "code",
   "execution_count": 5,
   "metadata": {
    "collapsed": false
   },
   "outputs": [
    {
     "data": {
      "text/html": [
       "4"
      ],
      "text/plain": [
       "4"
      ]
     },
     "execution_count": 5,
     "metadata": {},
     "output_type": "execute_result"
    }
   ],
   "source": []
  }
 ],
 "metadata": {
  "kernelspec": {
   "display_name": "Julia 0.5.0",
   "language": "julia",
   "name": "julia-0.5"
  },
  "language_info": {
   "file_extension": ".jl",
   "mimetype": "application/julia",
   "name": "julia",
   "version": "0.5.0"
  }
 },
 "nbformat": 4,
 "nbformat_minor": 2
}
